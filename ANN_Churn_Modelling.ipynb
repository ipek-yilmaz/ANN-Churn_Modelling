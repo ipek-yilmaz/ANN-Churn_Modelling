{
  "nbformat": 4,
  "nbformat_minor": 0,
  "metadata": {
    "colab": {
      "name": "ANN-Churn_Modelling.ipynb",
      "provenance": [],
      "authorship_tag": "ABX9TyMP6trF/SaS9dyJQvZ+RCD4",
      "include_colab_link": true
    },
    "kernelspec": {
      "name": "python3",
      "display_name": "Python 3"
    },
    "language_info": {
      "name": "python"
    }
  },
  "cells": [
    {
      "cell_type": "markdown",
      "metadata": {
        "id": "view-in-github",
        "colab_type": "text"
      },
      "source": [
        "<a href=\"https://colab.research.google.com/github/ipek-yilmaz/ANN-Churn_Modelling/blob/main/ANN_Churn_Modelling.ipynb\" target=\"_parent\"><img src=\"https://colab.research.google.com/assets/colab-badge.svg\" alt=\"Open In Colab\"/></a>"
      ]
    },
    {
      "cell_type": "code",
      "metadata": {
        "id": "AAJkUAoHaUHD"
      },
      "source": [
        "import numpy as np\n",
        "import pandas as pd\n",
        "import matplotlib.pyplot as plt\n"
      ],
      "execution_count": null,
      "outputs": []
    },
    {
      "cell_type": "code",
      "metadata": {
        "id": "GIbg04qdVpdx"
      },
      "source": [
        "dataset = pd.read_csv(\"Churn_Modelling.csv\")"
      ],
      "execution_count": null,
      "outputs": []
    },
    {
      "cell_type": "code",
      "metadata": {
        "id": "pYTt9Z--R9Rl"
      },
      "source": [
        "dataset.head()"
      ],
      "execution_count": null,
      "outputs": []
    },
    {
      "cell_type": "code",
      "metadata": {
        "id": "XINVKTukSA91"
      },
      "source": [
        "X = dataset.iloc[:,3:-1]\n",
        "y = dataset.iloc[:,-1]"
      ],
      "execution_count": null,
      "outputs": []
    },
    {
      "cell_type": "code",
      "metadata": {
        "id": "qkQDvgXMSXBW"
      },
      "source": [
        "X"
      ],
      "execution_count": null,
      "outputs": []
    },
    {
      "cell_type": "code",
      "metadata": {
        "id": "wYzBmtfUSZpK"
      },
      "source": [
        "y"
      ],
      "execution_count": null,
      "outputs": []
    },
    {
      "cell_type": "code",
      "metadata": {
        "id": "SU07LufoSaFF"
      },
      "source": [
        "geography = pd.get_dummies(X[\"Geography\"],drop_first=True)\n",
        "gender = pd.get_dummies(X[\"Gender\"],drop_first=True)"
      ],
      "execution_count": null,
      "outputs": []
    },
    {
      "cell_type": "code",
      "metadata": {
        "id": "0LDA7EYBS3_0"
      },
      "source": [
        "geography"
      ],
      "execution_count": null,
      "outputs": []
    },
    {
      "cell_type": "code",
      "metadata": {
        "id": "1V1C1aiQS_Fw"
      },
      "source": [
        "gender"
      ],
      "execution_count": null,
      "outputs": []
    },
    {
      "cell_type": "code",
      "metadata": {
        "id": "MwXdkT_LTRIX"
      },
      "source": [
        "X"
      ],
      "execution_count": null,
      "outputs": []
    },
    {
      "cell_type": "code",
      "metadata": {
        "id": "xJj7sk3cTYbF"
      },
      "source": [
        "X = pd.concat([X,geography,gender],axis=1)"
      ],
      "execution_count": null,
      "outputs": []
    },
    {
      "cell_type": "code",
      "metadata": {
        "id": "5MjlPFzmTWRS"
      },
      "source": [
        "X"
      ],
      "execution_count": null,
      "outputs": []
    },
    {
      "cell_type": "code",
      "metadata": {
        "id": "EtUCB4JETssC"
      },
      "source": [
        "X = X.drop([\"Geography\",\"Gender\"],axis=1)"
      ],
      "execution_count": null,
      "outputs": []
    },
    {
      "cell_type": "code",
      "metadata": {
        "id": "3MUfJDtWT1vn"
      },
      "source": [
        "X"
      ],
      "execution_count": null,
      "outputs": []
    },
    {
      "cell_type": "code",
      "metadata": {
        "id": "ieJNMdUWT2ZL"
      },
      "source": [
        "from sklearn.model_selection import train_test_split\n",
        "X_train, X_test, y_train, y_test = train_test_split(X, y, test_size=0.3, random_state=42)"
      ],
      "execution_count": null,
      "outputs": []
    },
    {
      "cell_type": "code",
      "metadata": {
        "id": "7bKBW7b5UIYX"
      },
      "source": [
        "X_train"
      ],
      "execution_count": null,
      "outputs": []
    },
    {
      "cell_type": "code",
      "metadata": {
        "id": "o-tzyQhUUOKn"
      },
      "source": [
        "X_test"
      ],
      "execution_count": null,
      "outputs": []
    },
    {
      "cell_type": "code",
      "metadata": {
        "id": "TOqBaRIxUPYF"
      },
      "source": [
        "y_train"
      ],
      "execution_count": null,
      "outputs": []
    },
    {
      "cell_type": "code",
      "metadata": {
        "id": "OJawWjkRUUkU"
      },
      "source": [
        "#If you deal with DL you must alyways do feature scaling\n",
        "#Feature Scaling\n",
        "\n",
        "from sklearn.preprocessing import StandardScaler\n",
        "sc = StandardScaler()\n",
        "X_train = sc.fit_transform(X_train)\n",
        "X_test = sc.fit_transform(X_test)"
      ],
      "execution_count": null,
      "outputs": []
    },
    {
      "cell_type": "code",
      "metadata": {
        "id": "UTVdgBBVU5Zj"
      },
      "source": [
        "X_train"
      ],
      "execution_count": null,
      "outputs": []
    },
    {
      "cell_type": "code",
      "metadata": {
        "id": "dJA5mLPHwFaI"
      },
      "source": [
        "#Perform hyperparameter optimization\n",
        "from keras.wrappers.scikit_learn import KerasClassifier\n",
        "from sklearn.model_selection import GridSearchCV\n"
      ],
      "execution_count": null,
      "outputs": []
    },
    {
      "cell_type": "code",
      "metadata": {
        "id": "NrdJnOFzwu9e"
      },
      "source": [
        "from keras.models import Sequential\n",
        "from keras.layers import Dense, Activation, Embedding, Flatten, LeakyReLU, BatchNormalization, Dropout\n",
        "from keras.activations import relu,sigmoid"
      ],
      "execution_count": 4,
      "outputs": []
    },
    {
      "cell_type": "code",
      "metadata": {
        "id": "AAQftbR1xBG5"
      },
      "source": [
        "def create_models(layers,activation):\n",
        "  model = Sequential()\n",
        "  for i, nodes in enumarate(layers):\n",
        "    if i==0:\n",
        "      model.add(Dense(nodes,units=X_train.shape[1]))\n",
        "      model.add(Activation(activation))\n",
        "      model.add(Dropout(0.3))\n",
        "\n",
        "    else:\n",
        "      model.add(Dense(nodes))\n",
        "      model.add(Activation(activation))\n",
        "      model.add(Dropout(0.3))\n",
        "\n",
        "  model.add(Dense(units=1, kernel_initializer=\"glorot_uniform\",activation=\"sigmoid\"))\n",
        "  model.compile(optimizer=\"adam\", loss=\"binary_crossentropy\", metrics=[\"accuracy\"])\n",
        "  return model"
      ],
      "execution_count": null,
      "outputs": []
    },
    {
      "cell_type": "code",
      "metadata": {
        "id": "a568MtsyVtKT"
      },
      "source": [
        "model = KerasClassifier(build_fn=create_model, verbose=0)"
      ],
      "execution_count": null,
      "outputs": []
    },
    {
      "cell_type": "code",
      "metadata": {
        "id": "AQq0xuxOz80b"
      },
      "source": [
        "layers = [[20], [20,40], [10,15,20]]\n",
        "activations = ['sigmoid', 'relu']\n",
        "param_grid = dict(layers=layers, activation=activations, batch_size=[128,256], epochs=[30,50])\n",
        "grid = GridSearchCV(estimator=model, param_grid=param_grid, cv=5)"
      ],
      "execution_count": null,
      "outputs": []
    },
    {
      "cell_type": "code",
      "metadata": {
        "id": "9mP_y5mB2f9S"
      },
      "source": [
        "grid_result = grid.fit(X_train, y_train)\n",
        "\n",
        "[grid_result.best_score_,grid_result.best_params_]"
      ],
      "execution_count": null,
      "outputs": []
    },
    {
      "cell_type": "code",
      "metadata": {
        "id": "8YG4bTmvU8Uc"
      },
      "source": [
        "#@title\n",
        "#Importing keras libraries and packages\n",
        "import keras\n",
        "from keras.models import Sequential\n",
        "from keras.layers import Dense\n",
        "from keras.layers import LeakyReLU,ReLU,PReLU\n",
        "from keras.layers import Dropout"
      ],
      "execution_count": 1,
      "outputs": []
    },
    {
      "cell_type": "code",
      "metadata": {
        "id": "AiydkobvVpXq"
      },
      "source": [
        "#@title\n",
        "#Initialing the ANN\n",
        "classifier = Sequential()"
      ],
      "execution_count": 2,
      "outputs": []
    },
    {
      "cell_type": "code",
      "metadata": {
        "id": "ujdt4ouBVvhd"
      },
      "source": [
        "#@title\n",
        "#Adding the input layer and first hidden layer\n",
        "classifier.add(Dense(units=6, kernel_initializer=\"he_uniform\", activation=\"relu\",input_dim=11))"
      ],
      "execution_count": 3,
      "outputs": []
    },
    {
      "cell_type": "code",
      "metadata": {
        "id": "a3MPpX4tW4om"
      },
      "source": [
        "#@title\n",
        "#Adding the second hidden layer\n",
        "classifier.add(Dense(units=6, kernel_initializer=\"he_uniform\", activation=\"relu\"))"
      ],
      "execution_count": null,
      "outputs": []
    },
    {
      "cell_type": "code",
      "metadata": {
        "id": "qm07q1g3XNgf"
      },
      "source": [
        "#@title\n",
        "#Adding output layer\n",
        "classifier.add(Dense(units=1, kernel_initializer=\"glorot_uniform\",activation=\"sigmoid\"))"
      ],
      "execution_count": null,
      "outputs": []
    },
    {
      "cell_type": "code",
      "metadata": {
        "id": "TvycTdodWofx"
      },
      "source": [
        "#@title\n",
        "#Compiling the ANN\n",
        "classifier.compile(optimizer=\"Adamax\", loss=\"binary_crossentropy\", metrics=['accuracy'])"
      ],
      "execution_count": null,
      "outputs": []
    },
    {
      "cell_type": "code",
      "metadata": {
        "colab": {
          "base_uri": "https://localhost:8080/"
        },
        "id": "HzIxdesGX9GF",
        "cellView": "form",
        "outputId": "dc4e3ee5-6e76-4b07-b32a-dd330cdf4ab8"
      },
      "source": [
        "#@title\n",
        "#Fitting the ANN to the training set\n",
        "model_history = classifier.fit(X_train, y_train, validation_split=0.33, batch_size=20, epochs=100)"
      ],
      "execution_count": null,
      "outputs": [
        {
          "output_type": "stream",
          "text": [
            "Epoch 1/100\n",
            "235/235 [==============================] - 1s 3ms/step - loss: 0.7851 - accuracy: 0.3725 - val_loss: 0.5923 - val_accuracy: 0.7702\n",
            "Epoch 2/100\n",
            "235/235 [==============================] - 0s 2ms/step - loss: 0.5589 - accuracy: 0.7995 - val_loss: 0.5120 - val_accuracy: 0.7893\n",
            "Epoch 3/100\n",
            "235/235 [==============================] - 0s 2ms/step - loss: 0.5105 - accuracy: 0.7877 - val_loss: 0.4915 - val_accuracy: 0.7893\n",
            "Epoch 4/100\n",
            "235/235 [==============================] - 0s 2ms/step - loss: 0.4894 - accuracy: 0.7932 - val_loss: 0.4823 - val_accuracy: 0.7893\n",
            "Epoch 5/100\n",
            "235/235 [==============================] - 0s 2ms/step - loss: 0.4780 - accuracy: 0.7944 - val_loss: 0.4762 - val_accuracy: 0.7893\n",
            "Epoch 6/100\n",
            "235/235 [==============================] - 0s 2ms/step - loss: 0.4693 - accuracy: 0.7997 - val_loss: 0.4707 - val_accuracy: 0.7893\n",
            "Epoch 7/100\n",
            "235/235 [==============================] - 0s 2ms/step - loss: 0.4640 - accuracy: 0.7968 - val_loss: 0.4662 - val_accuracy: 0.7893\n",
            "Epoch 8/100\n",
            "235/235 [==============================] - 0s 2ms/step - loss: 0.4618 - accuracy: 0.7915 - val_loss: 0.4621 - val_accuracy: 0.7893\n",
            "Epoch 9/100\n",
            "235/235 [==============================] - 0s 2ms/step - loss: 0.4705 - accuracy: 0.7865 - val_loss: 0.4584 - val_accuracy: 0.7893\n",
            "Epoch 10/100\n",
            "235/235 [==============================] - 0s 2ms/step - loss: 0.4644 - accuracy: 0.7833 - val_loss: 0.4553 - val_accuracy: 0.7893\n",
            "Epoch 11/100\n",
            "235/235 [==============================] - 0s 2ms/step - loss: 0.4508 - accuracy: 0.7937 - val_loss: 0.4525 - val_accuracy: 0.7893\n",
            "Epoch 12/100\n",
            "235/235 [==============================] - 0s 2ms/step - loss: 0.4360 - accuracy: 0.8024 - val_loss: 0.4500 - val_accuracy: 0.7893\n",
            "Epoch 13/100\n",
            "235/235 [==============================] - 0s 2ms/step - loss: 0.4351 - accuracy: 0.8049 - val_loss: 0.4479 - val_accuracy: 0.7901\n",
            "Epoch 14/100\n",
            "235/235 [==============================] - 0s 2ms/step - loss: 0.4469 - accuracy: 0.7947 - val_loss: 0.4461 - val_accuracy: 0.7923\n",
            "Epoch 15/100\n",
            "235/235 [==============================] - 0s 2ms/step - loss: 0.4438 - accuracy: 0.7926 - val_loss: 0.4446 - val_accuracy: 0.7927\n",
            "Epoch 16/100\n",
            "235/235 [==============================] - 0s 2ms/step - loss: 0.4364 - accuracy: 0.8025 - val_loss: 0.4431 - val_accuracy: 0.7958\n",
            "Epoch 17/100\n",
            "235/235 [==============================] - 0s 2ms/step - loss: 0.4415 - accuracy: 0.7960 - val_loss: 0.4420 - val_accuracy: 0.7958\n",
            "Epoch 18/100\n",
            "235/235 [==============================] - 0s 2ms/step - loss: 0.4378 - accuracy: 0.8005 - val_loss: 0.4409 - val_accuracy: 0.7975\n",
            "Epoch 19/100\n",
            "235/235 [==============================] - 0s 2ms/step - loss: 0.4369 - accuracy: 0.7935 - val_loss: 0.4399 - val_accuracy: 0.7992\n",
            "Epoch 20/100\n",
            "235/235 [==============================] - 0s 2ms/step - loss: 0.4478 - accuracy: 0.7978 - val_loss: 0.4389 - val_accuracy: 0.8010\n",
            "Epoch 21/100\n",
            "235/235 [==============================] - 0s 2ms/step - loss: 0.4345 - accuracy: 0.8002 - val_loss: 0.4377 - val_accuracy: 0.8066\n",
            "Epoch 22/100\n",
            "235/235 [==============================] - 0s 2ms/step - loss: 0.4397 - accuracy: 0.8024 - val_loss: 0.4366 - val_accuracy: 0.8087\n",
            "Epoch 23/100\n",
            "235/235 [==============================] - 0s 2ms/step - loss: 0.4479 - accuracy: 0.7947 - val_loss: 0.4357 - val_accuracy: 0.8105\n",
            "Epoch 24/100\n",
            "235/235 [==============================] - 0s 2ms/step - loss: 0.4333 - accuracy: 0.8117 - val_loss: 0.4345 - val_accuracy: 0.8122\n",
            "Epoch 25/100\n",
            "235/235 [==============================] - 0s 2ms/step - loss: 0.4166 - accuracy: 0.8165 - val_loss: 0.4333 - val_accuracy: 0.8122\n",
            "Epoch 26/100\n",
            "235/235 [==============================] - 0s 2ms/step - loss: 0.4227 - accuracy: 0.8179 - val_loss: 0.4322 - val_accuracy: 0.8118\n",
            "Epoch 27/100\n",
            "235/235 [==============================] - 0s 2ms/step - loss: 0.4227 - accuracy: 0.8160 - val_loss: 0.4311 - val_accuracy: 0.8126\n",
            "Epoch 28/100\n",
            "235/235 [==============================] - 0s 2ms/step - loss: 0.4165 - accuracy: 0.8169 - val_loss: 0.4298 - val_accuracy: 0.8139\n",
            "Epoch 29/100\n",
            "235/235 [==============================] - 0s 2ms/step - loss: 0.4117 - accuracy: 0.8206 - val_loss: 0.4284 - val_accuracy: 0.8170\n",
            "Epoch 30/100\n",
            "235/235 [==============================] - 0s 2ms/step - loss: 0.4262 - accuracy: 0.8140 - val_loss: 0.4271 - val_accuracy: 0.8196\n",
            "Epoch 31/100\n",
            "235/235 [==============================] - 0s 2ms/step - loss: 0.4251 - accuracy: 0.8161 - val_loss: 0.4260 - val_accuracy: 0.8187\n",
            "Epoch 32/100\n",
            "235/235 [==============================] - 0s 2ms/step - loss: 0.4247 - accuracy: 0.8163 - val_loss: 0.4248 - val_accuracy: 0.8209\n",
            "Epoch 33/100\n",
            "235/235 [==============================] - 0s 2ms/step - loss: 0.4195 - accuracy: 0.8242 - val_loss: 0.4234 - val_accuracy: 0.8222\n",
            "Epoch 34/100\n",
            "235/235 [==============================] - 0s 2ms/step - loss: 0.4156 - accuracy: 0.8298 - val_loss: 0.4217 - val_accuracy: 0.8235\n",
            "Epoch 35/100\n",
            "235/235 [==============================] - 0s 2ms/step - loss: 0.4155 - accuracy: 0.8282 - val_loss: 0.4201 - val_accuracy: 0.8252\n",
            "Epoch 36/100\n",
            "235/235 [==============================] - 0s 2ms/step - loss: 0.4145 - accuracy: 0.8214 - val_loss: 0.4185 - val_accuracy: 0.8265\n",
            "Epoch 37/100\n",
            "235/235 [==============================] - 0s 2ms/step - loss: 0.4010 - accuracy: 0.8322 - val_loss: 0.4166 - val_accuracy: 0.8269\n",
            "Epoch 38/100\n",
            "235/235 [==============================] - 0s 2ms/step - loss: 0.4119 - accuracy: 0.8285 - val_loss: 0.4152 - val_accuracy: 0.8286\n",
            "Epoch 39/100\n",
            "235/235 [==============================] - 0s 2ms/step - loss: 0.3968 - accuracy: 0.8331 - val_loss: 0.4132 - val_accuracy: 0.8295\n",
            "Epoch 40/100\n",
            "235/235 [==============================] - 0s 2ms/step - loss: 0.3908 - accuracy: 0.8449 - val_loss: 0.4115 - val_accuracy: 0.8304\n",
            "Epoch 41/100\n",
            "235/235 [==============================] - 0s 2ms/step - loss: 0.4026 - accuracy: 0.8383 - val_loss: 0.4100 - val_accuracy: 0.8312\n",
            "Epoch 42/100\n",
            "235/235 [==============================] - 0s 2ms/step - loss: 0.3962 - accuracy: 0.8334 - val_loss: 0.4084 - val_accuracy: 0.8312\n",
            "Epoch 43/100\n",
            "235/235 [==============================] - 0s 2ms/step - loss: 0.3913 - accuracy: 0.8384 - val_loss: 0.4063 - val_accuracy: 0.8304\n",
            "Epoch 44/100\n",
            "235/235 [==============================] - 0s 2ms/step - loss: 0.3871 - accuracy: 0.8431 - val_loss: 0.4044 - val_accuracy: 0.8321\n",
            "Epoch 45/100\n",
            "235/235 [==============================] - 0s 2ms/step - loss: 0.3842 - accuracy: 0.8392 - val_loss: 0.4028 - val_accuracy: 0.8343\n",
            "Epoch 46/100\n",
            "235/235 [==============================] - 0s 2ms/step - loss: 0.3820 - accuracy: 0.8489 - val_loss: 0.4013 - val_accuracy: 0.8356\n",
            "Epoch 47/100\n",
            "235/235 [==============================] - 0s 2ms/step - loss: 0.3872 - accuracy: 0.8427 - val_loss: 0.3998 - val_accuracy: 0.8364\n",
            "Epoch 48/100\n",
            "235/235 [==============================] - 0s 2ms/step - loss: 0.3769 - accuracy: 0.8435 - val_loss: 0.3976 - val_accuracy: 0.8373\n",
            "Epoch 49/100\n",
            "235/235 [==============================] - 0s 2ms/step - loss: 0.3836 - accuracy: 0.8499 - val_loss: 0.3963 - val_accuracy: 0.8373\n",
            "Epoch 50/100\n",
            "235/235 [==============================] - 0s 2ms/step - loss: 0.3835 - accuracy: 0.8472 - val_loss: 0.3948 - val_accuracy: 0.8382\n",
            "Epoch 51/100\n",
            "235/235 [==============================] - 0s 2ms/step - loss: 0.3842 - accuracy: 0.8464 - val_loss: 0.3935 - val_accuracy: 0.8395\n",
            "Epoch 52/100\n",
            "235/235 [==============================] - 0s 2ms/step - loss: 0.3842 - accuracy: 0.8436 - val_loss: 0.3921 - val_accuracy: 0.8403\n",
            "Epoch 53/100\n",
            "235/235 [==============================] - 0s 2ms/step - loss: 0.3610 - accuracy: 0.8598 - val_loss: 0.3905 - val_accuracy: 0.8408\n",
            "Epoch 54/100\n",
            "235/235 [==============================] - 0s 2ms/step - loss: 0.3559 - accuracy: 0.8582 - val_loss: 0.3892 - val_accuracy: 0.8416\n",
            "Epoch 55/100\n",
            "235/235 [==============================] - 0s 2ms/step - loss: 0.3696 - accuracy: 0.8529 - val_loss: 0.3880 - val_accuracy: 0.8429\n",
            "Epoch 56/100\n",
            "235/235 [==============================] - 0s 2ms/step - loss: 0.3702 - accuracy: 0.8497 - val_loss: 0.3867 - val_accuracy: 0.8429\n",
            "Epoch 57/100\n",
            "235/235 [==============================] - 0s 2ms/step - loss: 0.3697 - accuracy: 0.8541 - val_loss: 0.3856 - val_accuracy: 0.8416\n",
            "Epoch 58/100\n",
            "235/235 [==============================] - 0s 2ms/step - loss: 0.3744 - accuracy: 0.8419 - val_loss: 0.3845 - val_accuracy: 0.8421\n",
            "Epoch 59/100\n",
            "235/235 [==============================] - 0s 2ms/step - loss: 0.3464 - accuracy: 0.8601 - val_loss: 0.3834 - val_accuracy: 0.8438\n",
            "Epoch 60/100\n",
            "235/235 [==============================] - 0s 2ms/step - loss: 0.3724 - accuracy: 0.8516 - val_loss: 0.3826 - val_accuracy: 0.8429\n",
            "Epoch 61/100\n",
            "235/235 [==============================] - 0s 2ms/step - loss: 0.3605 - accuracy: 0.8521 - val_loss: 0.3813 - val_accuracy: 0.8442\n",
            "Epoch 62/100\n",
            "235/235 [==============================] - 0s 2ms/step - loss: 0.3773 - accuracy: 0.8479 - val_loss: 0.3805 - val_accuracy: 0.8447\n",
            "Epoch 63/100\n",
            "235/235 [==============================] - 0s 2ms/step - loss: 0.3535 - accuracy: 0.8600 - val_loss: 0.3794 - val_accuracy: 0.8447\n",
            "Epoch 64/100\n",
            "235/235 [==============================] - 0s 2ms/step - loss: 0.3610 - accuracy: 0.8552 - val_loss: 0.3785 - val_accuracy: 0.8451\n",
            "Epoch 65/100\n",
            "235/235 [==============================] - 0s 2ms/step - loss: 0.3572 - accuracy: 0.8610 - val_loss: 0.3777 - val_accuracy: 0.8455\n",
            "Epoch 66/100\n",
            "235/235 [==============================] - 0s 2ms/step - loss: 0.3587 - accuracy: 0.8547 - val_loss: 0.3768 - val_accuracy: 0.8460\n",
            "Epoch 67/100\n",
            "235/235 [==============================] - 0s 2ms/step - loss: 0.3511 - accuracy: 0.8632 - val_loss: 0.3760 - val_accuracy: 0.8460\n",
            "Epoch 68/100\n",
            "235/235 [==============================] - 0s 2ms/step - loss: 0.3553 - accuracy: 0.8588 - val_loss: 0.3755 - val_accuracy: 0.8460\n",
            "Epoch 69/100\n",
            "235/235 [==============================] - 0s 2ms/step - loss: 0.3626 - accuracy: 0.8487 - val_loss: 0.3748 - val_accuracy: 0.8468\n",
            "Epoch 70/100\n",
            "235/235 [==============================] - 0s 2ms/step - loss: 0.3532 - accuracy: 0.8596 - val_loss: 0.3741 - val_accuracy: 0.8473\n",
            "Epoch 71/100\n",
            "235/235 [==============================] - 0s 2ms/step - loss: 0.3488 - accuracy: 0.8640 - val_loss: 0.3736 - val_accuracy: 0.8464\n",
            "Epoch 72/100\n",
            "235/235 [==============================] - 0s 2ms/step - loss: 0.3467 - accuracy: 0.8614 - val_loss: 0.3730 - val_accuracy: 0.8464\n",
            "Epoch 73/100\n",
            "235/235 [==============================] - 0s 2ms/step - loss: 0.3379 - accuracy: 0.8622 - val_loss: 0.3723 - val_accuracy: 0.8464\n",
            "Epoch 74/100\n",
            "235/235 [==============================] - 0s 2ms/step - loss: 0.3451 - accuracy: 0.8636 - val_loss: 0.3719 - val_accuracy: 0.8464\n",
            "Epoch 75/100\n",
            "235/235 [==============================] - 0s 2ms/step - loss: 0.3431 - accuracy: 0.8643 - val_loss: 0.3714 - val_accuracy: 0.8460\n",
            "Epoch 76/100\n",
            "235/235 [==============================] - 0s 2ms/step - loss: 0.3445 - accuracy: 0.8657 - val_loss: 0.3709 - val_accuracy: 0.8460\n",
            "Epoch 77/100\n",
            "235/235 [==============================] - 0s 2ms/step - loss: 0.3488 - accuracy: 0.8581 - val_loss: 0.3702 - val_accuracy: 0.8473\n",
            "Epoch 78/100\n",
            "235/235 [==============================] - 0s 2ms/step - loss: 0.3622 - accuracy: 0.8592 - val_loss: 0.3697 - val_accuracy: 0.8468\n",
            "Epoch 79/100\n",
            "235/235 [==============================] - 0s 2ms/step - loss: 0.3469 - accuracy: 0.8597 - val_loss: 0.3695 - val_accuracy: 0.8486\n",
            "Epoch 80/100\n",
            "235/235 [==============================] - 0s 2ms/step - loss: 0.3513 - accuracy: 0.8555 - val_loss: 0.3690 - val_accuracy: 0.8481\n",
            "Epoch 81/100\n",
            "235/235 [==============================] - 0s 2ms/step - loss: 0.3484 - accuracy: 0.8579 - val_loss: 0.3686 - val_accuracy: 0.8481\n",
            "Epoch 82/100\n",
            "235/235 [==============================] - 0s 2ms/step - loss: 0.3462 - accuracy: 0.8602 - val_loss: 0.3682 - val_accuracy: 0.8481\n",
            "Epoch 83/100\n",
            "235/235 [==============================] - 0s 2ms/step - loss: 0.3401 - accuracy: 0.8625 - val_loss: 0.3677 - val_accuracy: 0.8481\n",
            "Epoch 84/100\n",
            "235/235 [==============================] - 0s 2ms/step - loss: 0.3530 - accuracy: 0.8530 - val_loss: 0.3674 - val_accuracy: 0.8481\n",
            "Epoch 85/100\n",
            "235/235 [==============================] - 0s 2ms/step - loss: 0.3559 - accuracy: 0.8511 - val_loss: 0.3669 - val_accuracy: 0.8494\n",
            "Epoch 86/100\n",
            "235/235 [==============================] - 0s 2ms/step - loss: 0.3481 - accuracy: 0.8577 - val_loss: 0.3667 - val_accuracy: 0.8498\n",
            "Epoch 87/100\n",
            "235/235 [==============================] - 0s 2ms/step - loss: 0.3485 - accuracy: 0.8575 - val_loss: 0.3663 - val_accuracy: 0.8494\n",
            "Epoch 88/100\n",
            "235/235 [==============================] - 0s 2ms/step - loss: 0.3406 - accuracy: 0.8604 - val_loss: 0.3660 - val_accuracy: 0.8507\n",
            "Epoch 89/100\n",
            "235/235 [==============================] - 0s 2ms/step - loss: 0.3353 - accuracy: 0.8636 - val_loss: 0.3657 - val_accuracy: 0.8507\n",
            "Epoch 90/100\n",
            "235/235 [==============================] - 0s 2ms/step - loss: 0.3538 - accuracy: 0.8502 - val_loss: 0.3656 - val_accuracy: 0.8503\n",
            "Epoch 91/100\n",
            "235/235 [==============================] - 0s 2ms/step - loss: 0.3441 - accuracy: 0.8590 - val_loss: 0.3655 - val_accuracy: 0.8503\n",
            "Epoch 92/100\n",
            "235/235 [==============================] - 0s 2ms/step - loss: 0.3572 - accuracy: 0.8545 - val_loss: 0.3654 - val_accuracy: 0.8503\n",
            "Epoch 93/100\n",
            "235/235 [==============================] - 0s 2ms/step - loss: 0.3469 - accuracy: 0.8527 - val_loss: 0.3648 - val_accuracy: 0.8507\n",
            "Epoch 94/100\n",
            "235/235 [==============================] - 0s 2ms/step - loss: 0.3474 - accuracy: 0.8554 - val_loss: 0.3647 - val_accuracy: 0.8511\n",
            "Epoch 95/100\n",
            "235/235 [==============================] - 0s 2ms/step - loss: 0.3415 - accuracy: 0.8563 - val_loss: 0.3643 - val_accuracy: 0.8516\n",
            "Epoch 96/100\n",
            "235/235 [==============================] - 0s 2ms/step - loss: 0.3381 - accuracy: 0.8606 - val_loss: 0.3643 - val_accuracy: 0.8507\n",
            "Epoch 97/100\n",
            "235/235 [==============================] - 0s 2ms/step - loss: 0.3385 - accuracy: 0.8647 - val_loss: 0.3640 - val_accuracy: 0.8511\n",
            "Epoch 98/100\n",
            "235/235 [==============================] - 0s 2ms/step - loss: 0.3356 - accuracy: 0.8625 - val_loss: 0.3637 - val_accuracy: 0.8511\n",
            "Epoch 99/100\n",
            "235/235 [==============================] - 0s 2ms/step - loss: 0.3471 - accuracy: 0.8547 - val_loss: 0.3636 - val_accuracy: 0.8507\n",
            "Epoch 100/100\n",
            "235/235 [==============================] - 0s 2ms/step - loss: 0.3322 - accuracy: 0.8642 - val_loss: 0.3635 - val_accuracy: 0.8511\n"
          ],
          "name": "stdout"
        }
      ]
    },
    {
      "cell_type": "code",
      "metadata": {
        "colab": {
          "base_uri": "https://localhost:8080/"
        },
        "id": "zk4qVcmhYcNs",
        "outputId": "94fbc8b9-63d3-4a5e-9e0c-12c7a488ff3a"
      },
      "source": [
        "#@title\n",
        "#List all data in history\n",
        "print(model_history.history.keys())"
      ],
      "execution_count": null,
      "outputs": [
        {
          "output_type": "stream",
          "text": [
            "dict_keys(['loss', 'accuracy', 'val_loss', 'val_accuracy'])\n"
          ],
          "name": "stdout"
        }
      ]
    },
    {
      "cell_type": "code",
      "metadata": {
        "colab": {
          "base_uri": "https://localhost:8080/",
          "height": 550
        },
        "id": "dijvqFnlZUDi",
        "outputId": "817b55b2-3e99-4ea6-a9aa-a9f084a10635"
      },
      "source": [
        "#@title\n",
        "plt.plot(model_history.history[\"accuracy\"])\n",
        "plt.plot(model_history.history[\"val_accuracy\"])\n",
        "plt.title(\"model accuracy\")\n",
        "plt.ylabel(\"accuracy\")\n",
        "plt.xlabel(\"epoch\")\n",
        "plt.legend(['train','test'], loc='upper_left')\n",
        "plt.show()\n"
      ],
      "execution_count": null,
      "outputs": [
        {
          "output_type": "stream",
          "text": [
            "/usr/local/lib/python3.7/dist-packages/ipykernel_launcher.py:6: MatplotlibDeprecationWarning: Unrecognized location 'upper_left'. Falling back on 'best'; valid locations are\n",
            "\tbest\n",
            "\tupper right\n",
            "\tupper left\n",
            "\tlower left\n",
            "\tlower right\n",
            "\tright\n",
            "\tcenter left\n",
            "\tcenter right\n",
            "\tlower center\n",
            "\tupper center\n",
            "\tcenter\n",
            "This will raise an exception in 3.3.\n",
            "  \n"
          ],
          "name": "stderr"
        },
        {
          "output_type": "display_data",
          "data": {
            "image/png": "[encoded data removed]",
            "text/plain": [
              "<Figure size 432x288 with 1 Axes>"
            ]
          },
          "metadata": {
            "tags": [],
            "needs_background": "light"
          }
        }
      ]
    },
    {
      "cell_type": "code",
      "metadata": {
        "colab": {
          "base_uri": "https://localhost:8080/",
          "height": 295
        },
        "id": "QzdeNc_5eBS0",
        "outputId": "f3f69097-f758-4d62-91a4-d89b64b8fe83"
      },
      "source": [
        "#@title\n",
        "# summarize history for loss\n",
        "plt.plot(model_history.history['loss'])\n",
        "plt.plot(model_history.history['val_loss'])\n",
        "plt.title('model loss')\n",
        "plt.ylabel('loss')\n",
        "plt.xlabel('epoch')\n",
        "plt.legend(['train', 'test'], loc='upper right')\n",
        "plt.show()"
      ],
      "execution_count": null,
      "outputs": [
        {
          "output_type": "display_data",
          "data": {
            "image/png": "[encoded data removed]",
            "text/plain": [
              "<Figure size 432x288 with 1 Axes>"
            ]
          },
          "metadata": {
            "tags": [],
            "needs_background": "light"
          }
        }
      ]
    },
    {
      "cell_type": "code",
      "metadata": {
        "id": "-SLDliIWeQ3J"
      },
      "source": [
        "#@title\n",
        "#Predicting the test set results\n",
        "y_pred = classifier.predict(X_test)\n",
        "y_pred = y_pred > 0.5\n"
      ],
      "execution_count": null,
      "outputs": []
    },
    {
      "cell_type": "code",
      "metadata": {
        "id": "kXqyfMAnmw8O"
      },
      "source": [
        "#@title\n",
        "#Making the confusion matrix\n",
        "from sklearn.metrics import confusion_matrix\n",
        "cm = confusion_matrix(y_test, y_pred)"
      ],
      "execution_count": null,
      "outputs": []
    },
    {
      "cell_type": "code",
      "metadata": {
        "id": "3HteCVjcnPn_"
      },
      "source": [
        "#@title\n",
        "# Calculate the Accuracy\n",
        "from sklearn.metrics import accuracy_score\n",
        "score=accuracy_score(y_pred,y_test)\n"
      ],
      "execution_count": null,
      "outputs": []
    },
    {
      "cell_type": "code",
      "metadata": {
        "id": "eObtxPuNnU_y",
        "colab": {
          "base_uri": "https://localhost:8080/"
        },
        "outputId": "b4570094-894b-468f-9801-a96e66a91140"
      },
      "source": [
        "#@title\n",
        "print(cm)"
      ],
      "execution_count": null,
      "outputs": [
        {
          "output_type": "stream",
          "text": [
            "[[2342   74]\n",
            " [ 334  250]]\n"
          ],
          "name": "stdout"
        }
      ]
    },
    {
      "cell_type": "code",
      "metadata": {
        "id": "Z7AqACLRnWbI",
        "colab": {
          "base_uri": "https://localhost:8080/"
        },
        "outputId": "45a7bfe9-9d7b-4526-b7c9-883ae2d9d2cb"
      },
      "source": [
        "#@title\n",
        "print(score)"
      ],
      "execution_count": null,
      "outputs": [
        {
          "output_type": "stream",
          "text": [
            "0.864\n"
          ],
          "name": "stdout"
        }
      ]
    }
  ]
}